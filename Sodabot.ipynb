{
  "nbformat": 4,
  "nbformat_minor": 0,
  "metadata": {
    "colab": {
      "name": "Sodabot_chess.ipynb",
      "provenance": []
    },
    "kernelspec": {
      "name": "python3",
      "display_name": "Python 3"
    }
  },
  "cells": [
    {
      "cell_type": "code",
      "metadata": {
        "id": "Ej1X8XMIYaym"
      },
      "source": [
        "# Dependencies\n",
        "import numpy as np\n",
        "import pandas as pd"
      ],
      "execution_count": null,
      "outputs": []
    },
    {
      "cell_type": "code",
      "metadata": {
        "id": "x5Qq366BHVKk"
      },
      "source": [
        "from google.colab import drive\n",
        "drive.mount('/content/drive')"
      ],
      "execution_count": null,
      "outputs": []
    },
    {
      "cell_type": "code",
      "metadata": {
        "id": "NQaZLIGOY2Qg"
      },
      "source": [
        "# Let's import our Chess games\n",
        "df = pd.read_csv('drive/My Drive/Colab Datasets/Chess/games_moves_split_filled.csv')\n",
        "\n",
        "df.head(10)"
      ],
      "execution_count": null,
      "outputs": []
    },
    {
      "cell_type": "code",
      "metadata": {
        "id": "s5WTh3B2P7-D"
      },
      "source": [
        "# Split string-moves into arrays\n",
        "# df['moves'] = df['moves'].str.split()"
      ],
      "execution_count": null,
      "outputs": []
    },
    {
      "cell_type": "code",
      "metadata": {
        "id": "FpXQUxIeY7WB"
      },
      "source": [
        "#Changing pandas dataframe to numpy array\n",
        "x = df.loc[:, ~df.columns.isin(['winner'])].values\n",
        "y = df.loc[:, df.columns == 'winner'].values"
      ],
      "execution_count": null,
      "outputs": []
    },
    {
      "cell_type": "code",
      "metadata": {
        "id": "MqWnFvF_f_Vj",
        "colab": {
          "base_uri": "https://localhost:8080/",
          "height": 136
        },
        "outputId": "64eb36ff-f24e-49b8-9ae3-23dfe43a37ae"
      },
      "source": [
        "x"
      ],
      "execution_count": null,
      "outputs": [
        {
          "output_type": "execute_result",
          "data": {
            "text/plain": [
              "array([['e4', 'e5', 'd3', ..., 'GG', 'GG', 'GG'],\n",
              "       ['d4', 'd5', 'Nf3', ..., 'GG', 'GG', 'GG'],\n",
              "       ['e4', 'e5', 'Nf3', ..., 'GG', 'GG', 'GG'],\n",
              "       ...,\n",
              "       ['d4', 'd6', 'Bf4', ..., 'GG', 'GG', 'GG'],\n",
              "       ['d4', 'd5', 'Bf4', ..., 'GG', 'GG', 'GG'],\n",
              "       ['d4', 'd5', 'Bf4', ..., 'GG', 'GG', 'GG']], dtype=object)"
            ]
          },
          "metadata": {
            "tags": []
          },
          "execution_count": 11
        }
      ]
    },
    {
      "cell_type": "code",
      "metadata": {
        "id": "XJcr6_xeZ6KC"
      },
      "source": [
        "# Encode moves\n",
        "from sklearn.preprocessing import OneHotEncoder\n",
        "ohe = OneHotEncoder()\n",
        "x = ohe.fit_transform(x).toarray()"
      ],
      "execution_count": null,
      "outputs": []
    },
    {
      "cell_type": "code",
      "metadata": {
        "id": "IhgkMb2GITHv",
        "colab": {
          "base_uri": "https://localhost:8080/",
          "height": 34
        },
        "outputId": "7a86eedd-c3fc-4440-acc4-1041f51305b4"
      },
      "source": [
        "x[0]"
      ],
      "execution_count": null,
      "outputs": [
        {
          "output_type": "execute_result",
          "data": {
            "text/plain": [
              "array([0., 0., 0., ..., 0., 1., 0.])"
            ]
          },
          "metadata": {
            "tags": []
          },
          "execution_count": 13
        }
      ]
    },
    {
      "cell_type": "code",
      "metadata": {
        "id": "yim6L5JwLlhs",
        "colab": {
          "base_uri": "https://localhost:8080/",
          "height": 34
        },
        "outputId": "5e09ddef-1f94-4470-a4bd-0b223431adf5"
      },
      "source": [
        "# Change inputs to binary\n",
        "from keras.utils import to_categorical\n",
        "y = to_categorical(y)"
      ],
      "execution_count": null,
      "outputs": [
        {
          "output_type": "stream",
          "text": [
            "Using TensorFlow backend.\n"
          ],
          "name": "stderr"
        }
      ]
    },
    {
      "cell_type": "code",
      "metadata": {
        "id": "E0yRvG_i7L8O",
        "colab": {
          "base_uri": "https://localhost:8080/",
          "height": 136
        },
        "outputId": "f696b77f-5f90-4eb8-d441-8d2bf47ad50c"
      },
      "source": [
        "y"
      ],
      "execution_count": null,
      "outputs": [
        {
          "output_type": "execute_result",
          "data": {
            "text/plain": [
              "array([[0., 0., 1.],\n",
              "       [0., 0., 1.],\n",
              "       [0., 0., 1.],\n",
              "       ...,\n",
              "       [1., 0., 0.],\n",
              "       [0., 0., 1.],\n",
              "       [1., 0., 0.]], dtype=float32)"
            ]
          },
          "metadata": {
            "tags": []
          },
          "execution_count": 15
        }
      ]
    },
    {
      "cell_type": "code",
      "metadata": {
        "id": "S2qCLRhZabX3"
      },
      "source": [
        "# Split into train and test data\n",
        "from sklearn.model_selection import train_test_split\n",
        "x_train, x_test, y_train, y_test = train_test_split(x, y, test_size = 0.1)"
      ],
      "execution_count": null,
      "outputs": []
    },
    {
      "cell_type": "code",
      "metadata": {
        "id": "q_82jmNMahek"
      },
      "source": [
        "# Dependencies\n",
        "import keras\n",
        "from keras.models import Sequential\n",
        "from keras.layers import Dense\n",
        "from keras.layers import Dropout\n",
        "\n",
        "# Neural network\n",
        "model = Sequential()\n",
        "# model.add(Dropout(0.5, input_shape=(86308,)))\n",
        "model.add(Dense(16, input_dim=86308, activation='relu'))\n",
        "model.add(Dropout(0.2))\n",
        "model.add(Dense(12, activation='relu'))\n",
        "model.add(Dropout(0.2))\n",
        "model.add(Dense(3, activation='softmax'))"
      ],
      "execution_count": null,
      "outputs": []
    },
    {
      "cell_type": "code",
      "metadata": {
        "id": "JDc88OwWappd"
      },
      "source": [
        "model.compile(loss='categorical_crossentropy', optimizer='adam', metrics=['accuracy'])"
      ],
      "execution_count": null,
      "outputs": []
    },
    {
      "cell_type": "code",
      "metadata": {
        "id": "dBRLhMTjRe8_"
      },
      "source": [
        "from keras import backend as K\n",
        "K.set_value(model.optimizer.learning_rate, 0.0001)"
      ],
      "execution_count": null,
      "outputs": []
    },
    {
      "cell_type": "code",
      "metadata": {
        "id": "gpQmviUMdk-T",
        "colab": {
          "base_uri": "https://localhost:8080/",
          "height": 884
        },
        "outputId": "ddc50a53-099f-44b4-9a37-89e254e77506"
      },
      "source": [
        "history = model.fit(x_train, y_train, validation_data = (x_test, y_test), epochs=25, batch_size=64)"
      ],
      "execution_count": null,
      "outputs": [
        {
          "output_type": "stream",
          "text": [
            "Train on 6507 samples, validate on 724 samples\n",
            "Epoch 1/25\n",
            "6507/6507 [==============================] - 6s 880us/step - loss: 1.0129 - accuracy: 0.4314 - val_loss: 0.9523 - val_accuracy: 0.5249\n",
            "Epoch 2/25\n",
            "6507/6507 [==============================] - 5s 822us/step - loss: 0.9706 - accuracy: 0.4898 - val_loss: 0.9310 - val_accuracy: 0.6050\n",
            "Epoch 3/25\n",
            "6507/6507 [==============================] - 5s 838us/step - loss: 0.9365 - accuracy: 0.5419 - val_loss: 0.9268 - val_accuracy: 0.5608\n",
            "Epoch 4/25\n",
            "6507/6507 [==============================] - 6s 858us/step - loss: 0.8913 - accuracy: 0.5957 - val_loss: 0.8950 - val_accuracy: 0.6464\n",
            "Epoch 5/25\n",
            "6507/6507 [==============================] - 6s 848us/step - loss: 0.8359 - accuracy: 0.6562 - val_loss: 0.8772 - val_accuracy: 0.6464\n",
            "Epoch 6/25\n",
            "6507/6507 [==============================] - 6s 867us/step - loss: 0.7749 - accuracy: 0.6948 - val_loss: 0.8567 - val_accuracy: 0.6547\n",
            "Epoch 7/25\n",
            "6507/6507 [==============================] - 6s 861us/step - loss: 0.7081 - accuracy: 0.7480 - val_loss: 0.8364 - val_accuracy: 0.6796\n",
            "Epoch 8/25\n",
            "6507/6507 [==============================] - 5s 841us/step - loss: 0.6476 - accuracy: 0.7770 - val_loss: 0.8148 - val_accuracy: 0.6975\n",
            "Epoch 9/25\n",
            "6507/6507 [==============================] - 5s 844us/step - loss: 0.5859 - accuracy: 0.8087 - val_loss: 0.7890 - val_accuracy: 0.6892\n",
            "Epoch 10/25\n",
            "6507/6507 [==============================] - 6s 862us/step - loss: 0.5272 - accuracy: 0.8356 - val_loss: 0.7697 - val_accuracy: 0.6975\n",
            "Epoch 11/25\n",
            "6507/6507 [==============================] - 6s 865us/step - loss: 0.4696 - accuracy: 0.8628 - val_loss: 0.7498 - val_accuracy: 0.7086\n",
            "Epoch 12/25\n",
            "6507/6507 [==============================] - 6s 867us/step - loss: 0.4273 - accuracy: 0.8832 - val_loss: 0.7396 - val_accuracy: 0.7224\n",
            "Epoch 13/25\n",
            "6507/6507 [==============================] - 6s 863us/step - loss: 0.3764 - accuracy: 0.9020 - val_loss: 0.7271 - val_accuracy: 0.7099\n",
            "Epoch 14/25\n",
            "6507/6507 [==============================] - 6s 872us/step - loss: 0.3415 - accuracy: 0.9142 - val_loss: 0.7144 - val_accuracy: 0.7265\n",
            "Epoch 15/25\n",
            "6507/6507 [==============================] - 6s 855us/step - loss: 0.3084 - accuracy: 0.9242 - val_loss: 0.7090 - val_accuracy: 0.7141\n",
            "Epoch 16/25\n",
            "6507/6507 [==============================] - 6s 861us/step - loss: 0.2720 - accuracy: 0.9362 - val_loss: 0.7014 - val_accuracy: 0.7210\n",
            "Epoch 17/25\n",
            "6507/6507 [==============================] - 6s 879us/step - loss: 0.2503 - accuracy: 0.9431 - val_loss: 0.7031 - val_accuracy: 0.7279\n",
            "Epoch 18/25\n",
            "6507/6507 [==============================] - 6s 876us/step - loss: 0.2272 - accuracy: 0.9504 - val_loss: 0.6962 - val_accuracy: 0.7320\n",
            "Epoch 19/25\n",
            "6507/6507 [==============================] - 6s 886us/step - loss: 0.2071 - accuracy: 0.9580 - val_loss: 0.6987 - val_accuracy: 0.7334\n",
            "Epoch 20/25\n",
            "6507/6507 [==============================] - 6s 889us/step - loss: 0.1883 - accuracy: 0.9611 - val_loss: 0.6987 - val_accuracy: 0.7334\n",
            "Epoch 21/25\n",
            "6507/6507 [==============================] - 6s 886us/step - loss: 0.1720 - accuracy: 0.9648 - val_loss: 0.6997 - val_accuracy: 0.7376\n",
            "Epoch 22/25\n",
            "6507/6507 [==============================] - 6s 897us/step - loss: 0.1560 - accuracy: 0.9702 - val_loss: 0.7056 - val_accuracy: 0.7362\n",
            "Epoch 23/25\n",
            "6507/6507 [==============================] - 6s 892us/step - loss: 0.1428 - accuracy: 0.9730 - val_loss: 0.7090 - val_accuracy: 0.7196\n",
            "Epoch 24/25\n",
            "6507/6507 [==============================] - 6s 884us/step - loss: 0.1321 - accuracy: 0.9740 - val_loss: 0.7178 - val_accuracy: 0.7348\n",
            "Epoch 25/25\n",
            "6507/6507 [==============================] - 6s 890us/step - loss: 0.1274 - accuracy: 0.9763 - val_loss: 0.7201 - val_accuracy: 0.7334\n"
          ],
          "name": "stdout"
        }
      ]
    },
    {
      "cell_type": "code",
      "metadata": {
        "id": "Bd9k2zjDHLUi"
      },
      "source": [
        "from sklearn.metrics import accuracy_score\n",
        "a = accuracy_score(pred,test)\n",
        "print('Accuracy is:', a*100)"
      ],
      "execution_count": null,
      "outputs": []
    },
    {
      "cell_type": "code",
      "metadata": {
        "id": "t053Y7KCdon-",
        "colab": {
          "base_uri": "https://localhost:8080/",
          "height": 295
        },
        "outputId": "3baf4c98-ff4e-45a0-c71d-b7b4c20726bf"
      },
      "source": [
        "import matplotlib.pyplot as plt\n",
        "plt.plot(history.history['accuracy'])\n",
        "plt.plot(history.history['val_accuracy'])\n",
        "plt.title('Model accuracy')\n",
        "plt.ylabel('Accuracy')\n",
        "plt.xlabel('Epoch')\n",
        "plt.legend(['Train', 'Test'], loc='upper left')\n",
        "plt.show()"
      ],
      "execution_count": null,
      "outputs": [
        {
          "output_type": "display_data",
          "data": {
            "image/png": "[encoded data removed]",
            "text/plain": [
              "<Figure size 432x288 with 1 Axes>"
            ]
          },
          "metadata": {
            "tags": [],
            "needs_background": "light"
          }
        }
      ]
    },
    {
      "cell_type": "code",
      "metadata": {
        "id": "Mu_DLCkzdwh_",
        "colab": {
          "base_uri": "https://localhost:8080/",
          "height": 295
        },
        "outputId": "dd4e0ebe-11c6-414b-be33-6b8f172c0cdf"
      },
      "source": [
        "plt.plot(history.history['loss'])\n",
        "plt.plot(history.history['val_loss']) \n",
        "plt.title('Model loss') \n",
        "plt.ylabel('Loss') \n",
        "plt.xlabel('Epoch') \n",
        "plt.legend(['Train', 'Test'], loc='upper left') \n",
        "plt.show()"
      ],
      "execution_count": null,
      "outputs": [
        {
          "output_type": "display_data",
          "data": {
            "image/png": "[encoded data removed]",
            "text/plain": [
              "<Figure size 432x288 with 1 Axes>"
            ]
          },
          "metadata": {
            "tags": [],
            "needs_background": "light"
          }
        }
      ]
    },
    {
      "cell_type": "code",
      "metadata": {
        "id": "uyLdvwcFd7Xh"
      },
      "source": [
        "# Grab a set of moves and split them to fit the formatting\n",
        "moves_new = 'Nf3 Nf6 c4 g6 Nc3 Bg7 d4 O-O Bf4 d5 Qb3 dxc4 Qxc4 c6 e4 Nbd7 Rd1 Nb6 Qc5 Bg4 Bg5 GG Qa3 Nxc3 bxc3 Nxe4 Bxe7 Qb6 Bc4 Nxc3 Bc5 GG Kf1 Be6 Bxb6 GG Kg1 Ne2+ Kf1 Nxd4+ Kg1 Ne2+ Kf1 Nc3+ Kg1 axb6 Qb4 Ra4 Qxb6 Nxd1 h3 Rxa2 Kh2 Nxf2 Re1 Rxe1 Qd8+ Bf8 GG Bd5 Nf3 Ne4 GG b5 h4 h5 Ne5 Kg7 Kg1 Bc5+ Kf1 Ng3+ Ke1 GG Kd1 GG Kc1 Ne2+ Kb1 GG Kc1 GG GG GG GG GG GG GG GG GG GG GG GG GG GG GG GG GG GG GG GG GG GG GG GG GG GG GG GG GG GG GG GG GG GG GG GG GG GG GG GG GG GG GG GG GG GG GG GG GG GG GG GG GG GG GG GG GG GG GG GG GG GG GG GG GG GG GG GG GG GG GG GG GG GG GG GG GG GG GG GG GG GG GG GG GG GG GG GG GG GG GG GG GG GG GG GG GG GG GG GG GG GG GG GG GG GG GG GG GG GG GG GG GG GG GG GG GG GG GG GG GG GG GG GG GG GG GG GG GG GG GG GG GG GG GG GG GG GG GG GG GG GG GG GG GG GG GG GG GG GG GG GG GG GG GG GG GG GG GG GG GG GG GG GG GG GG GG GG GG GG GG GG GG GG GG GG GG GG'\n",
        "moves_new = np.array(moves_new.split())\n",
        "moves_new"
      ],
      "execution_count": null,
      "outputs": []
    },
    {
      "cell_type": "code",
      "metadata": {
        "id": "RssBtwY_UnPY",
        "colab": {
          "base_uri": "https://localhost:8080/",
          "height": 51
        },
        "outputId": "b6981f1f-5e2d-4e0f-8135-d9a80aa120c1"
      },
      "source": [
        "# Let's give it a scenario where we don't know what the best move is\n",
        "x_new = ohe.transform(moves_new.reshape(1, -1))\n",
        "x_new"
      ],
      "execution_count": null,
      "outputs": [
        {
          "output_type": "execute_result",
          "data": {
            "text/plain": [
              "<1x86308 sparse matrix of type '<class 'numpy.float64'>'\n",
              "\twith 259 stored elements in Compressed Sparse Row format>"
            ]
          },
          "metadata": {
            "tags": []
          },
          "execution_count": 40
        }
      ]
    },
    {
      "cell_type": "code",
      "metadata": {
        "id": "QrA9sQviU2Dt",
        "colab": {
          "base_uri": "https://localhost:8080/",
          "height": 34
        },
        "outputId": "95ed9e09-da54-42ea-c6eb-5efd429ea07e"
      },
      "source": [
        "# Ask it for the answer and print it\n",
        "y_new = model.predict(x_new)\n",
        "y_new"
      ],
      "execution_count": null,
      "outputs": [
        {
          "output_type": "execute_result",
          "data": {
            "text/plain": [
              "array([[0.9778407 , 0.005334  , 0.01682527]], dtype=float32)"
            ]
          },
          "metadata": {
            "tags": []
          },
          "execution_count": 41
        }
      ]
    },
    {
      "cell_type": "code",
      "metadata": {
        "id": "_w0xMgPZVWGe"
      },
      "source": [
        "# Use this to get AUROC\n",
        "import sklearn.metrics\n",
        "\n",
        "fpr, tpr, thresholds = sklearn.metrics.roc_curve(y_true = true_labels, y_score = pred_probs, pos_label = 1) #positive class is 1; negative class is 0\n",
        "auroc = sklearn.metrics.auc(fpr, tpr)"
      ],
      "execution_count": null,
      "outputs": []
    }
  ]
}